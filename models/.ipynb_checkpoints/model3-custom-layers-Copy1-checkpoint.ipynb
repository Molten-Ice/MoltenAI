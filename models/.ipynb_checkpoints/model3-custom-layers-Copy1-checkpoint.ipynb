{
 "cells": [
  {
   "cell_type": "code",
   "execution_count": 1,
   "metadata": {},
   "outputs": [],
   "source": [
    "%load_ext autoreload\n",
    "%autoreload 2\n",
    "%matplotlib inline"
   ]
  },
  {
   "cell_type": "code",
   "execution_count": 2,
   "metadata": {},
   "outputs": [],
   "source": [
    "import sys\n",
    "sys.path.append('/data/home/jdavey/notebooks/fastai/mi')\n",
    "from data.loader import *\n",
    "from nn.lin import *\n",
    "from nn.relu import *\n",
    "from nn.softmaxCrossEntropy import *"
   ]
  },
  {
   "cell_type": "code",
   "execution_count": 3,
   "metadata": {},
   "outputs": [],
   "source": [
    "import math\n",
    "import torch"
   ]
  },
  {
   "cell_type": "markdown",
   "metadata": {},
   "source": [
    "## data_loader"
   ]
  },
  {
   "cell_type": "code",
   "execution_count": 4,
   "metadata": {},
   "outputs": [
    {
     "name": "stdout",
     "output_type": "stream",
     "text": [
      "MNIST_URL http://deeplearning.net/data/mnist/mnist.pkl\n"
     ]
    }
   ],
   "source": [
    "avaliable_urls()"
   ]
  },
  {
   "cell_type": "code",
   "execution_count": 5,
   "metadata": {},
   "outputs": [],
   "source": [
    "def normalize(x, m, s): return (x-m)/s\n",
    "x_train,y_train,x_valid,y_valid = get_data()\n",
    "train_mean,train_std = x_train.mean(),x_train.std()\n",
    "x_train = normalize(x_train, train_mean, train_std)\n",
    "# NB: Use training, not validation mean for validation set\n",
    "x_valid = normalize(x_valid, train_mean, train_std)"
   ]
  },
  {
   "cell_type": "code",
   "execution_count": 6,
   "metadata": {},
   "outputs": [],
   "source": [
    "n,m = x_train.shape\n",
    "c = y_train.max()+1"
   ]
  },
  {
   "cell_type": "code",
   "execution_count": 7,
   "metadata": {},
   "outputs": [],
   "source": [
    "hidden_layers = [70]"
   ]
  },
  {
   "cell_type": "code",
   "execution_count": 8,
   "metadata": {},
   "outputs": [
    {
     "data": {
      "text/plain": [
       "[784, 70, 10]"
      ]
     },
     "execution_count": 8,
     "metadata": {},
     "output_type": "execute_result"
    }
   ],
   "source": [
    "hidden_layers.append(int(c))\n",
    "hidden_layers.insert(0, m)\n",
    "hidden_layers"
   ]
  },
  {
   "cell_type": "code",
   "execution_count": 9,
   "metadata": {},
   "outputs": [],
   "source": [
    "# simplified kaiming / he initialization\n",
    "parameters = {}\n",
    "for i in range(0, len(hidden_layers)-1):\n",
    "    parameters[\"w\"+str(i+1)] = torch.randn(hidden_layers[i],hidden_layers[i+1])*math.sqrt(2./hidden_layers[i])\n",
    "    parameters[\"b\"+str(i+1)] = torch.zeros(hidden_layers[i+1])\n",
    "    \n",
    "for key in parameters.keys():\n",
    "    parameters[key].g = None"
   ]
  },
  {
   "cell_type": "code",
   "execution_count": 10,
   "metadata": {},
   "outputs": [],
   "source": [
    "class Model():\n",
    "    def __init__(self):\n",
    "        self.layers = []\n",
    "        self.parameters = parameters\n",
    "        for i in range(0, len(hidden_layers)-1):\n",
    "            self.layers.append(Lin(parameters[\"w\"+str(i+1)],\n",
    "                                   parameters[\"b\"+str(i+1)]))\n",
    "            if i!= len(hidden_layers)-1:\n",
    "                self.layers.append(Relu())\n",
    "        self.loss = SoftmaxCrossEntropy()\n",
    "        \n",
    "    def __call__(self, x, targ):\n",
    "        for l in self.layers: x = l(x)\n",
    "        return self.loss(x, targ)\n",
    "    \n",
    "    def forward(self, x):\n",
    "        for l in self.layers: x = l(x)\n",
    "        return self.loss.softmax_forward(x)\n",
    "    \n",
    "    def backward(self, y_train):\n",
    "        self.loss.backward()\n",
    "        for l in reversed(self.layers): l.backward()\n",
    "    \n",
    "    def accuracy(self, pred, yb): return (torch.argmax(pred, dim=1)==yb).float().mean()\n"
   ]
  },
  {
   "cell_type": "code",
   "execution_count": 11,
   "metadata": {},
   "outputs": [
    {
     "name": "stdout",
     "output_type": "stream",
     "text": [
      "[<nn.lin.Lin object at 0x7fe5366357b8>, <nn.relu.Relu object at 0x7fe536635cf8>, <nn.lin.Lin object at 0x7fe536635b00>, <nn.relu.Relu object at 0x7fe536635ac8>]\n"
     ]
    },
    {
     "data": {
      "text/plain": [
       "tensor(-0.1129)"
      ]
     },
     "execution_count": 11,
     "metadata": {},
     "output_type": "execute_result"
    }
   ],
   "source": [
    "model = Model()\n",
    "print(model.layers)\n",
    "loss = model(x_train, y_train); loss"
   ]
  },
  {
   "cell_type": "code",
   "execution_count": 12,
   "metadata": {},
   "outputs": [],
   "source": [
    "model.backward(y_train)"
   ]
  },
  {
   "cell_type": "code",
   "execution_count": 13,
   "metadata": {},
   "outputs": [
    {
     "data": {
      "text/plain": [
       "tensor(0.1296)"
      ]
     },
     "execution_count": 13,
     "metadata": {},
     "output_type": "execute_result"
    }
   ],
   "source": [
    "pred = model.forward(x_train)\n",
    "model.accuracy(pred, y_train)"
   ]
  },
  {
   "cell_type": "code",
   "execution_count": 14,
   "metadata": {},
   "outputs": [],
   "source": [
    "bs = 10000    # batch size\n",
    "lr = 0.01   # learning rate\n",
    "epochs = 20# how many epochs to train for"
   ]
  },
  {
   "cell_type": "code",
   "execution_count": 15,
   "metadata": {},
   "outputs": [],
   "source": [
    "n,m = x_train.shape\n",
    "c = y_train.max()+1"
   ]
  },
  {
   "cell_type": "code",
   "execution_count": 16,
   "metadata": {},
   "outputs": [
    {
     "data": {
      "text/plain": [
       "5"
      ]
     },
     "execution_count": 16,
     "metadata": {},
     "output_type": "execute_result"
    }
   ],
   "source": [
    "x_train.shape[0]//bs"
   ]
  },
  {
   "cell_type": "code",
   "execution_count": 17,
   "metadata": {},
   "outputs": [
    {
     "name": "stdout",
     "output_type": "stream",
     "text": [
      "tensor(0.1443)\n",
      "tensor(0.2476)\n",
      "tensor(0.3343)\n",
      "tensor(0.4092)\n",
      "tensor(0.4796)\n",
      "tensor(0.5353)\n",
      "tensor(0.5812)\n",
      "tensor(0.6091)\n",
      "tensor(0.6295)\n",
      "tensor(0.6452)\n",
      "tensor(0.6556)\n",
      "tensor(0.6650)\n",
      "tensor(0.6729)\n",
      "tensor(0.6798)\n",
      "tensor(0.6846)\n",
      "tensor(0.6880)\n",
      "tensor(0.6911)\n",
      "tensor(0.6934)\n",
      "tensor(0.6958)\n",
      "tensor(0.6977)\n"
     ]
    }
   ],
   "source": [
    "parameter_torchs = [parameters[key] for key in parameters]\n",
    "for epoch in range(epochs):\n",
    "    for i in range((n-1)//bs + 1):\n",
    "        start_i = i*bs\n",
    "        end_i = start_i+bs\n",
    "        xb = x_train[start_i:end_i]\n",
    "        yb = y_train[start_i:end_i]\n",
    "        loss = model(xb, yb)\n",
    "        model.backward(yb)\n",
    "        \n",
    "#         for l in model.layers:\n",
    "#             if hasattr(l, 'w'):\n",
    "#                 l.w-=l.w.g*lr\n",
    "#                 l.b-=l.b.g*lr\n",
    "                \n",
    "        for key in model.parameters:\n",
    "            parameter = model.parameters[key]\n",
    "            parameter-=lr*parameter.g\n",
    "            \n",
    "        if i % 5 == 0:\n",
    "            pred = model.forward(x_valid)\n",
    "            print(model.accuracy(pred, y_valid))"
   ]
  },
  {
   "cell_type": "code",
   "execution_count": null,
   "metadata": {},
   "outputs": [],
   "source": []
  },
  {
   "cell_type": "code",
   "execution_count": null,
   "metadata": {},
   "outputs": [],
   "source": []
  },
  {
   "cell_type": "code",
   "execution_count": null,
   "metadata": {},
   "outputs": [],
   "source": []
  },
  {
   "cell_type": "code",
   "execution_count": null,
   "metadata": {},
   "outputs": [],
   "source": []
  },
  {
   "cell_type": "code",
   "execution_count": null,
   "metadata": {},
   "outputs": [],
   "source": []
  }
 ],
 "metadata": {
  "kernelspec": {
   "display_name": "Python (fastai)",
   "language": "python",
   "name": "fastai"
  },
  "language_info": {
   "codemirror_mode": {
    "name": "ipython",
    "version": 3
   },
   "file_extension": ".py",
   "mimetype": "text/x-python",
   "name": "python",
   "nbconvert_exporter": "python",
   "pygments_lexer": "ipython3",
   "version": "3.6.10"
  }
 },
 "nbformat": 4,
 "nbformat_minor": 4
}
