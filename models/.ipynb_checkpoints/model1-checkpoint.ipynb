{
 "cells": [
  {
   "cell_type": "code",
   "execution_count": 1,
   "metadata": {},
   "outputs": [],
   "source": [
    "%load_ext autoreload\n",
    "%autoreload 2\n",
    "%matplotlib inline"
   ]
  },
  {
   "cell_type": "code",
   "execution_count": 2,
   "metadata": {},
   "outputs": [],
   "source": [
    "import sys\n",
    "sys.path.append('/data/home/jdavey/notebooks/fastai/mi')\n",
    "\n",
    "from nn.lin import *\n",
    "from nn.relu import *\n",
    "from nn.softmaxCrossEntropy import *\n",
    "from nn.module import Module\n",
    "\n",
    "from data.scraper import avaliable_urls\n",
    "from data.processor import data_processor"
   ]
  },
  {
   "cell_type": "code",
   "execution_count": 3,
   "metadata": {},
   "outputs": [],
   "source": [
    "import math\n",
    "import torch"
   ]
  },
  {
   "cell_type": "code",
   "execution_count": 4,
   "metadata": {},
   "outputs": [
    {
     "name": "stdout",
     "output_type": "stream",
     "text": [
      "MNIST_URL http://deeplearning.net/data/mnist/mnist.pkl\n"
     ]
    }
   ],
   "source": [
    "avaliable_urls()"
   ]
  },
  {
   "cell_type": "code",
   "execution_count": 5,
   "metadata": {},
   "outputs": [],
   "source": [
    "class Model(Module):\n",
    "    def __init__(self, layers):\n",
    "        self.layers = layers\n",
    "        self.loss = SoftmaxCrossEntropy()"
   ]
  },
  {
   "cell_type": "code",
   "execution_count": 6,
   "metadata": {},
   "outputs": [],
   "source": [
    "bs = 10000 "
   ]
  },
  {
   "cell_type": "code",
   "execution_count": 7,
   "metadata": {},
   "outputs": [],
   "source": [
    "train_dl, valid_ds = data_processor(bs)"
   ]
  },
  {
   "cell_type": "code",
   "execution_count": 8,
   "metadata": {},
   "outputs": [
    {
     "data": {
      "text/plain": [
       "Model(\n",
       "(layer_0):Linear(in_features=784, out_features=50)\n",
       "(layer_1):Relu()\n",
       "(layer_2):Linear(in_features=50, out_features=10)\n",
       "(layer_3):Softmax() & Cross_entropy_loss()\n",
       ")"
      ]
     },
     "execution_count": 8,
     "metadata": {},
     "output_type": "execute_result"
    }
   ],
   "source": [
    "model = Model([Lin(784,50), Relu(), Lin(50, 10)]); model"
   ]
  },
  {
   "cell_type": "code",
   "execution_count": 9,
   "metadata": {},
   "outputs": [],
   "source": [
    "lr = 0.01  \n",
    "epochs = 20 "
   ]
  },
  {
   "cell_type": "code",
   "execution_count": 10,
   "metadata": {},
   "outputs": [
    {
     "name": "stdout",
     "output_type": "stream",
     "text": [
      "tensor(0.2068)\n",
      "tensor(0.3500)\n",
      "tensor(0.4623)\n",
      "tensor(0.5589)\n",
      "tensor(0.6252)\n",
      "tensor(0.6723)\n",
      "tensor(0.7062)\n",
      "tensor(0.7255)\n",
      "tensor(0.7412)\n",
      "tensor(0.7507)\n",
      "tensor(0.7591)\n",
      "tensor(0.7656)\n",
      "tensor(0.7686)\n",
      "tensor(0.7722)\n",
      "tensor(0.7754)\n",
      "tensor(0.7764)\n",
      "tensor(0.7804)\n",
      "tensor(0.7836)\n",
      "tensor(0.7869)\n",
      "tensor(0.7932)\n"
     ]
    }
   ],
   "source": [
    "for epoch in range(epochs):\n",
    "    for xb, yb in train_dl:\n",
    "        loss = model(xb, yb)\n",
    "        model.backward(yb)\n",
    "        model.update_parameters(lr)\n",
    "    pred = model.forward(valid_ds.x)\n",
    "    print(model.loss.accuracy(pred, valid_ds.y))"
   ]
  }
 ],
 "metadata": {
  "kernelspec": {
   "display_name": "Python (fastai)",
   "language": "python",
   "name": "fastai"
  },
  "language_info": {
   "codemirror_mode": {
    "name": "ipython",
    "version": 3
   },
   "file_extension": ".py",
   "mimetype": "text/x-python",
   "name": "python",
   "nbconvert_exporter": "python",
   "pygments_lexer": "ipython3",
   "version": "3.6.10"
  }
 },
 "nbformat": 4,
 "nbformat_minor": 4
}
