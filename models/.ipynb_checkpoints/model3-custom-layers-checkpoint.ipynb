{
 "cells": [
  {
   "cell_type": "code",
   "execution_count": 1,
   "metadata": {},
   "outputs": [],
   "source": [
    "%load_ext autoreload\n",
    "%autoreload 2\n",
    "%matplotlib inline"
   ]
  },
  {
   "cell_type": "code",
   "execution_count": 2,
   "metadata": {},
   "outputs": [],
   "source": [
    "import sys\n",
    "sys.path.append('/data/home/jdavey/notebooks/fastai/mi')\n",
    "from data.loader import *\n",
    "from nn.lin import *\n",
    "from nn.relu import *\n",
    "from nn.softmaxCrossEntropy import *"
   ]
  },
  {
   "cell_type": "code",
   "execution_count": 3,
   "metadata": {},
   "outputs": [],
   "source": [
    "import math\n",
    "import torch"
   ]
  },
  {
   "cell_type": "markdown",
   "metadata": {},
   "source": [
    "## data_loader"
   ]
  },
  {
   "cell_type": "code",
   "execution_count": 4,
   "metadata": {},
   "outputs": [
    {
     "name": "stdout",
     "output_type": "stream",
     "text": [
      "MNIST_URL http://deeplearning.net/data/mnist/mnist.pkl\n"
     ]
    }
   ],
   "source": [
    "avaliable_urls()"
   ]
  },
  {
   "cell_type": "code",
   "execution_count": 5,
   "metadata": {},
   "outputs": [],
   "source": [
    "def normalize(x, m, s): return (x-m)/s\n",
    "x_train,y_train,x_valid,y_valid = get_data()\n",
    "train_mean,train_std = x_train.mean(),x_train.std()\n",
    "x_train = normalize(x_train, train_mean, train_std)\n",
    "# NB: Use training, not validation mean for validation set\n",
    "x_valid = normalize(x_valid, train_mean, train_std)"
   ]
  },
  {
   "cell_type": "code",
   "execution_count": 6,
   "metadata": {},
   "outputs": [],
   "source": [
    "n,m = x_train.shape\n",
    "c = y_train.max()+1"
   ]
  },
  {
   "cell_type": "code",
   "execution_count": 7,
   "metadata": {},
   "outputs": [],
   "source": [
    "hidden_layers = [70]"
   ]
  },
  {
   "cell_type": "code",
   "execution_count": 8,
   "metadata": {},
   "outputs": [
    {
     "data": {
      "text/plain": [
       "[784, 70, 10]"
      ]
     },
     "execution_count": 8,
     "metadata": {},
     "output_type": "execute_result"
    }
   ],
   "source": [
    "hidden_layers.append(int(c))\n",
    "hidden_layers.insert(0, m)\n",
    "hidden_layers"
   ]
  },
  {
   "cell_type": "code",
   "execution_count": 9,
   "metadata": {},
   "outputs": [],
   "source": [
    "# simplified kaiming / he initialization\n",
    "parameters = {}\n",
    "for i in range(0, len(hidden_layers)-1):\n",
    "    parameters[\"w\"+str(i+1)] = torch.randn(hidden_layers[i],hidden_layers[i+1])*math.sqrt(2./hidden_layers[i])\n",
    "    parameters[\"b\"+str(i+1)] = torch.zeros(hidden_layers[i+1])\n",
    "    \n",
    "for key in parameters.keys():\n",
    "    parameters[key].g = None"
   ]
  },
  {
   "cell_type": "code",
   "execution_count": 10,
   "metadata": {},
   "outputs": [],
   "source": [
    "class Model():\n",
    "    def __init__(self):\n",
    "        self.layers = []\n",
    "        for i in range(0, len(hidden_layers)-1):\n",
    "            self.layers.append(Lin(parameters[\"w\"+str(i+1)],\n",
    "                                   parameters[\"b\"+str(i+1)]))\n",
    "            if i!= len(hidden_layers)-1:\n",
    "                self.layers.append(Relu())\n",
    "        self.loss = SoftmaxCrossEntropy()\n",
    "        \n",
    "    def __call__(self, x, targ):\n",
    "        for l in self.layers: x = l(x)\n",
    "        return self.loss(x, targ)\n",
    "    \n",
    "    def forward(self, x):\n",
    "        for l in self.layers: x = l(x)\n",
    "        return self.loss.softmax_forward(x)\n",
    "    \n",
    "    def backward(self, y_train):\n",
    "        self.loss.backward()\n",
    "        for l in reversed(self.layers): l.backward()\n",
    "    \n",
    "    def accuracy(self, pred, yb): return (torch.argmax(pred, dim=1)==yb).float().mean()\n"
   ]
  },
  {
   "cell_type": "code",
   "execution_count": 11,
   "metadata": {},
   "outputs": [
    {
     "name": "stdout",
     "output_type": "stream",
     "text": [
      "[<nn.lin.Lin object at 0x7f2f70a29898>, <nn.relu.Relu object at 0x7f2f70a29780>, <nn.lin.Lin object at 0x7f2f70a299b0>, <nn.relu.Relu object at 0x7f2f70a29b00>]\n"
     ]
    },
    {
     "data": {
      "text/plain": [
       "tensor(-0.1113)"
      ]
     },
     "execution_count": 11,
     "metadata": {},
     "output_type": "execute_result"
    }
   ],
   "source": [
    "model = Model()\n",
    "print(model.layers)\n",
    "loss = model(x_train, y_train); loss"
   ]
  },
  {
   "cell_type": "code",
   "execution_count": 12,
   "metadata": {},
   "outputs": [],
   "source": [
    "model.backward(y_train)"
   ]
  },
  {
   "cell_type": "code",
   "execution_count": 13,
   "metadata": {},
   "outputs": [
    {
     "data": {
      "text/plain": [
       "tensor(0.1391)"
      ]
     },
     "execution_count": 13,
     "metadata": {},
     "output_type": "execute_result"
    }
   ],
   "source": [
    "pred = model.forward(x_train)\n",
    "model.accuracy(pred, y_train)"
   ]
  },
  {
   "cell_type": "code",
   "execution_count": 14,
   "metadata": {},
   "outputs": [],
   "source": [
    "bs = 10000    # batch size\n",
    "lr = 0.01   # learning rate\n",
    "epochs = 20# how many epochs to train for"
   ]
  },
  {
   "cell_type": "code",
   "execution_count": 15,
   "metadata": {},
   "outputs": [],
   "source": [
    "n,m = x_train.shape\n",
    "c = y_train.max()+1"
   ]
  },
  {
   "cell_type": "code",
   "execution_count": 16,
   "metadata": {},
   "outputs": [
    {
     "data": {
      "text/plain": [
       "5"
      ]
     },
     "execution_count": 16,
     "metadata": {},
     "output_type": "execute_result"
    }
   ],
   "source": [
    "x_train.shape[0]//bs"
   ]
  },
  {
   "cell_type": "code",
   "execution_count": 17,
   "metadata": {},
   "outputs": [
    {
     "name": "stdout",
     "output_type": "stream",
     "text": [
      "tensor(0.1642)\n",
      "tensor(0.2073)\n",
      "tensor(0.2465)\n",
      "tensor(0.2696)\n",
      "tensor(0.3159)\n",
      "tensor(0.3629)\n",
      "tensor(0.3859)\n",
      "tensor(0.4280)\n",
      "tensor(0.4598)\n",
      "tensor(0.4740)\n",
      "tensor(0.4981)\n",
      "tensor(0.5198)\n",
      "tensor(0.5296)\n",
      "tensor(0.5472)\n",
      "tensor(0.5627)\n",
      "tensor(0.5688)\n",
      "tensor(0.5847)\n",
      "tensor(0.5984)\n",
      "tensor(0.6041)\n",
      "tensor(0.6159)\n",
      "tensor(0.6253)\n",
      "tensor(0.6300)\n",
      "tensor(0.6394)\n",
      "tensor(0.6476)\n",
      "tensor(0.6504)\n",
      "tensor(0.6592)\n",
      "tensor(0.6664)\n",
      "tensor(0.6690)\n",
      "tensor(0.6765)\n",
      "tensor(0.6828)\n",
      "tensor(0.6845)\n",
      "tensor(0.6902)\n",
      "tensor(0.6948)\n",
      "tensor(0.6967)\n",
      "tensor(0.7018)\n",
      "tensor(0.7059)\n",
      "tensor(0.7074)\n",
      "tensor(0.7115)\n",
      "tensor(0.7152)\n",
      "tensor(0.7166)\n",
      "tensor(0.7212)\n",
      "tensor(0.7251)\n",
      "tensor(0.7261)\n",
      "tensor(0.7312)\n",
      "tensor(0.7348)\n",
      "tensor(0.7357)\n",
      "tensor(0.7401)\n",
      "tensor(0.7438)\n",
      "tensor(0.7439)\n",
      "tensor(0.7495)\n",
      "tensor(0.7529)\n",
      "tensor(0.7525)\n",
      "tensor(0.7574)\n",
      "tensor(0.7605)\n",
      "tensor(0.7601)\n",
      "tensor(0.7666)\n",
      "tensor(0.7698)\n",
      "tensor(0.7678)\n",
      "tensor(0.7751)\n",
      "tensor(0.7777)\n"
     ]
    }
   ],
   "source": [
    "parameter_torchs = [parameters[key] for key in parameters]\n",
    "for epoch in range(epochs):\n",
    "    for i in range((n-1)//bs + 1):\n",
    "        start_i = i*bs\n",
    "        end_i = start_i+bs\n",
    "        xb = x_train[start_i:end_i]\n",
    "        yb = y_train[start_i:end_i]\n",
    "        loss = model(xb, yb)\n",
    "        model.backward(yb)\n",
    "        \n",
    "        for parameter in parameter_torchs:\n",
    "            parameter-=lr*parameter.g\n",
    "        if i % 2 == 0:\n",
    "            pred = model.forward(x_train)\n",
    "            print(model.accuracy(pred, y_train))"
   ]
  },
  {
   "cell_type": "code",
   "execution_count": null,
   "metadata": {},
   "outputs": [],
   "source": []
  },
  {
   "cell_type": "code",
   "execution_count": null,
   "metadata": {},
   "outputs": [],
   "source": []
  },
  {
   "cell_type": "code",
   "execution_count": null,
   "metadata": {},
   "outputs": [],
   "source": []
  },
  {
   "cell_type": "code",
   "execution_count": null,
   "metadata": {},
   "outputs": [],
   "source": []
  },
  {
   "cell_type": "code",
   "execution_count": null,
   "metadata": {},
   "outputs": [],
   "source": []
  }
 ],
 "metadata": {
  "kernelspec": {
   "display_name": "Python (fastai)",
   "language": "python",
   "name": "fastai"
  },
  "language_info": {
   "codemirror_mode": {
    "name": "ipython",
    "version": 3
   },
   "file_extension": ".py",
   "mimetype": "text/x-python",
   "name": "python",
   "nbconvert_exporter": "python",
   "pygments_lexer": "ipython3",
   "version": "3.6.10"
  }
 },
 "nbformat": 4,
 "nbformat_minor": 4
}
