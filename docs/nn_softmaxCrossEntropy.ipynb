{
 "cells": [
  {
   "cell_type": "code",
   "execution_count": 1,
   "metadata": {},
   "outputs": [],
   "source": [
    "%load_ext autoreload\n",
    "%autoreload 2\n",
    "%matplotlib inline"
   ]
  },
  {
   "cell_type": "code",
   "execution_count": 2,
   "metadata": {},
   "outputs": [],
   "source": [
    "#export\n",
    "import sys\n",
    "sys.path.append('/data/home/jdavey/notebooks/fastai/mi')\n",
    "from nn.neural import Neural"
   ]
  },
  {
   "cell_type": "code",
   "execution_count": 3,
   "metadata": {},
   "outputs": [],
   "source": [
    "#export\n",
    "import torch"
   ]
  },
  {
   "cell_type": "code",
   "execution_count": 4,
   "metadata": {},
   "outputs": [],
   "source": [
    "#export\n",
    "class SoftmaxCrossEntropy(Neural):\n",
    "    \n",
    "    def softmax_forward(self, inp): \n",
    "        m = inp.max(-1)[0]\n",
    "        exps = (inp-m[:, None]).exp()\n",
    "        return exps / exps.sum(-1,keepdim=True)\n",
    "    \n",
    "    def cross_entropy_forward(self, inp, targ):\n",
    "         return -inp[range(targ.shape[0]), targ].mean()\n",
    "    \n",
    "    def forward(self, inp_softmax, targ):\n",
    "        inp = self.softmax_forward(inp_softmax)\n",
    "        return self.cross_entropy_forward(inp, targ)\n",
    "    \n",
    "    def bwd(self, out, inp, targ): \n",
    "        one_hot = torch.zeros(inp.shape)\n",
    "        one_hot[torch.arange(targ.shape[0]), targ] = 1\n",
    "        \n",
    "        m = targ.shape[0]\n",
    "        grad = self.softmax_forward(inp)\n",
    "        grad[torch.arange(m), targ] = -1\n",
    "        inp.g = grad/m"
   ]
  },
  {
   "cell_type": "code",
   "execution_count": 6,
   "metadata": {},
   "outputs": [
    {
     "name": "stdout",
     "output_type": "stream",
     "text": [
      "Replacing old file\r\n",
      "Converted nn_softmaxCrossEntropy.ipynb to /data/home/jdavey/notebooks/fastai/mi/nn/softmaxCrossEntropy.py\r\n"
     ]
    }
   ],
   "source": [
    "!python notebook2script.py nn_softmaxCrossEntropy.ipynb"
   ]
  },
  {
   "cell_type": "markdown",
   "metadata": {},
   "source": [
    "$$\\hbox{softmax(x)}_{i} = \\frac{e^{x_{i}}}{\\sum_{0 \\leq j \\leq n-1} e^{x_{j}}}$$ \n",
    "\n",
    "Cross entropy loss\n",
    "\n",
    "$$ -\\sum x\\, \\log p(x) $$\n",
    "\n",
    " There is a way to compute the log of the sum of exponentials in a more stable way, called the [LogSumExp trick](https://en.wikipedia.org/wiki/LogSumExp). The idea is to use the following formula:\n",
    "\n",
    "$$\\log \\left ( \\sum_{j=1}^{n} e^{x_{j}} \\right ) = \\log \\left ( e^{a} \\sum_{j=1}^{n} e^{x_{j}-a} \\right ) = a + \\log \\left ( \\sum_{j=1}^{n} e^{x_{j}-a} \\right )$$"
   ]
  },
  {
   "cell_type": "code",
   "execution_count": null,
   "metadata": {},
   "outputs": [],
   "source": []
  }
 ],
 "metadata": {
  "kernelspec": {
   "display_name": "Python (fastai)",
   "language": "python",
   "name": "fastai"
  },
  "language_info": {
   "codemirror_mode": {
    "name": "ipython",
    "version": 3
   },
   "file_extension": ".py",
   "mimetype": "text/x-python",
   "name": "python",
   "nbconvert_exporter": "python",
   "pygments_lexer": "ipython3",
   "version": "3.6.10"
  }
 },
 "nbformat": 4,
 "nbformat_minor": 4
}
