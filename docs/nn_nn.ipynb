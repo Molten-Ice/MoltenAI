{
 "cells": [
  {
   "cell_type": "code",
   "execution_count": 13,
   "metadata": {},
   "outputs": [
    {
     "name": "stdout",
     "output_type": "stream",
     "text": [
      "The autoreload extension is already loaded. To reload it, use:\n",
      "  %reload_ext autoreload\n"
     ]
    }
   ],
   "source": [
    "%load_ext autoreload\n",
    "%autoreload 2\n",
    "%matplotlib inline"
   ]
  },
  {
   "cell_type": "code",
   "execution_count": 14,
   "metadata": {},
   "outputs": [],
   "source": [
    "#export\n",
    "import sys\n",
    "from pathlib import Path\n",
    "sys.path.append(Path.cwd().parent.as_posix())\n",
    "\n",
    "from nn.lin import Lin\n",
    "from nn.relu import Relu\n",
    "from nn.softmaxCrossEntropy import SoftmaxCrossEntropy\n",
    "from nn.mse import Mse"
   ]
  },
  {
   "cell_type": "code",
   "execution_count": 15,
   "metadata": {},
   "outputs": [],
   "source": [
    "#export\n",
    "class nn():\n",
    "    @classmethod\n",
    "    def Lin(*args):\n",
    "        self.Lin = Lin(*args)\n",
    "    @classmethod\n",
    "    def Relu(*args):\n",
    "        self.Relu = Relu(*args)\n",
    "    @classmethod\n",
    "    def softmaxCrossEntropy(*args):\n",
    "        self.softmaxCrossEntropy = softmaxCrossEntropy(*args)\n",
    "    @classmethod\n",
    "    def Mse(*args):\n",
    "        self.Mse = Mse(*args)"
   ]
  },
  {
   "cell_type": "code",
   "execution_count": 17,
   "metadata": {},
   "outputs": [
    {
     "name": "stdout",
     "output_type": "stream",
     "text": [
      "Replacing old file\r\n",
      "Converted nn_nn.ipynb to /data/home/jdavey/notebooks/fastai/MoltenAI/nn/nn.py\r\n"
     ]
    }
   ],
   "source": [
    "!python notebook2script.py nn_nn.ipynb"
   ]
  },
  {
   "cell_type": "code",
   "execution_count": null,
   "metadata": {},
   "outputs": [],
   "source": []
  }
 ],
 "metadata": {
  "kernelspec": {
   "display_name": "Python (fastai)",
   "language": "python",
   "name": "fastai"
  },
  "language_info": {
   "codemirror_mode": {
    "name": "ipython",
    "version": 3
   },
   "file_extension": ".py",
   "mimetype": "text/x-python",
   "name": "python",
   "nbconvert_exporter": "python",
   "pygments_lexer": "ipython3",
   "version": "3.6.10"
  }
 },
 "nbformat": 4,
 "nbformat_minor": 4
}
