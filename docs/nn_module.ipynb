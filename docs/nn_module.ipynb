{
 "cells": [
  {
   "cell_type": "code",
   "execution_count": 6,
   "metadata": {},
   "outputs": [
    {
     "name": "stdout",
     "output_type": "stream",
     "text": [
      "The autoreload extension is already loaded. To reload it, use:\n",
      "  %reload_ext autoreload\n"
     ]
    }
   ],
   "source": [
    "%load_ext autoreload\n",
    "%autoreload 2\n",
    "%matplotlib inline"
   ]
  },
  {
   "cell_type": "code",
   "execution_count": 7,
   "metadata": {},
   "outputs": [],
   "source": [
    "#export\n",
    "class Module():\n",
    "    def __repr__(self): \n",
    "        repr = \"Model(\" + \"\\n\"\n",
    "        for i, l in enumerate (self.layers):\n",
    "            repr+= f\"(layer_{i}):\" + str(l) + \"\\n\"\n",
    "        repr+=f\"(layer_{i+1}):\" + str(self.loss) + \"\\n\"\n",
    "        repr+=\")\"\n",
    "        return repr\n",
    "    \n",
    "    def parameters(self):\n",
    "        for l in self.layers:\n",
    "            for p in l.parameters(): yield p\n",
    "    \n",
    "    def update_parameters(self, lr):\n",
    "        for parameter in self.parameters():\n",
    "            parameter-=lr*parameter.g\n",
    "    \n",
    "    def __call__(self, x, targ):\n",
    "        for l in self.layers: x = l(x)\n",
    "        return self.loss(x, targ)\n",
    "    \n",
    "    def forward(self, x):\n",
    "        for l in self.layers: x = l(x)\n",
    "        return self.loss.softmax_forward(x)\n",
    "    \n",
    "    def backward(self, y_train):\n",
    "        self.loss.backward()\n",
    "        for l in reversed(self.layers): l.backward()"
   ]
  },
  {
   "cell_type": "code",
   "execution_count": 9,
   "metadata": {},
   "outputs": [
    {
     "name": "stdout",
     "output_type": "stream",
     "text": [
      "Replacing old file\r\n",
      "Converted nn_module.ipynb to /data/home/jdavey/notebooks/fastai/mi/nn/module.py\r\n"
     ]
    }
   ],
   "source": [
    "!python notebook2script.py nn_module.ipynb"
   ]
  },
  {
   "cell_type": "markdown",
   "metadata": {},
   "source": [
    "## Possible additions"
   ]
  },
  {
   "cell_type": "code",
   "execution_count": 4,
   "metadata": {},
   "outputs": [],
   "source": [
    "#     def __setattr__(self,k,v):\n",
    "#         if not k.startswith(\"_\"): self.layers[k] = v\n",
    "#         super().__setattr__(k,v)\n",
    "        "
   ]
  },
  {
   "cell_type": "markdown",
   "metadata": {},
   "source": [
    "- update_parameters will have to be adjusted to allow layers to do 'frozen'"
   ]
  },
  {
   "cell_type": "code",
   "execution_count": null,
   "metadata": {},
   "outputs": [],
   "source": []
  }
 ],
 "metadata": {
  "kernelspec": {
   "display_name": "Python (fastai)",
   "language": "python",
   "name": "fastai"
  },
  "language_info": {
   "codemirror_mode": {
    "name": "ipython",
    "version": 3
   },
   "file_extension": ".py",
   "mimetype": "text/x-python",
   "name": "python",
   "nbconvert_exporter": "python",
   "pygments_lexer": "ipython3",
   "version": "3.6.10"
  }
 },
 "nbformat": 4,
 "nbformat_minor": 4
}
