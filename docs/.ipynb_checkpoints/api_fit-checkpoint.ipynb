{
 "cells": [
  {
   "cell_type": "code",
   "execution_count": 9,
   "metadata": {},
   "outputs": [
    {
     "name": "stdout",
     "output_type": "stream",
     "text": [
      "The autoreload extension is already loaded. To reload it, use:\n",
      "  %reload_ext autoreload\n"
     ]
    }
   ],
   "source": [
    "%load_ext autoreload\n",
    "%autoreload 2\n",
    "%matplotlib inline"
   ]
  },
  {
   "cell_type": "code",
   "execution_count": 13,
   "metadata": {},
   "outputs": [],
   "source": [
    "#export\n",
    "def fit(epochs, learn):\n",
    "    for epoch in range(epochs):\n",
    "        for xb, yb in learn.data.train_dl:\n",
    "            loss = learn.model(xb, yb)\n",
    "            learn.model.backward(yb)\n",
    "            learn.opt.step()\n",
    "            learn.opt.zero_grad()\n",
    "        total_accuracy,total_loss = 0., 0.\n",
    "        for xb, yb in learn.data.valid_dl:\n",
    "            pred = learn.model.forward(xb)\n",
    "            total_accuracy+=learn.model.loss.accuracy(pred, yb)*len(xb)\n",
    "        print(epoch, round(total_accuracy/len(learn.data.valid_dl), 5))"
   ]
  },
  {
   "cell_type": "code",
   "execution_count": 15,
   "metadata": {},
   "outputs": [
    {
     "name": "stdout",
     "output_type": "stream",
     "text": [
      "Replacing old file\r\n",
      "Converted api_fit.ipynb to /data/home/jdavey/notebooks/fastai/MoltenAI/api/fit.py\r\n"
     ]
    }
   ],
   "source": [
    "!python notebook2script.py api_fit.ipynb"
   ]
  },
  {
   "cell_type": "code",
   "execution_count": null,
   "metadata": {},
   "outputs": [],
   "source": []
  }
 ],
 "metadata": {
  "kernelspec": {
   "display_name": "Python (fastai)",
   "language": "python",
   "name": "fastai"
  },
  "language_info": {
   "codemirror_mode": {
    "name": "ipython",
    "version": 3
   },
   "file_extension": ".py",
   "mimetype": "text/x-python",
   "name": "python",
   "nbconvert_exporter": "python",
   "pygments_lexer": "ipython3",
   "version": "3.6.10"
  }
 },
 "nbformat": 4,
 "nbformat_minor": 4
}
