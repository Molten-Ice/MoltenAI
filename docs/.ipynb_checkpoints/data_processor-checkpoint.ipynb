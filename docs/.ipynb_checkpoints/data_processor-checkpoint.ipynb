{
 "cells": [
  {
   "cell_type": "code",
   "execution_count": 7,
   "metadata": {},
   "outputs": [
    {
     "name": "stdout",
     "output_type": "stream",
     "text": [
      "The autoreload extension is already loaded. To reload it, use:\n",
      "  %reload_ext autoreload\n"
     ]
    }
   ],
   "source": [
    "%load_ext autoreload\n",
    "%autoreload 2\n",
    "%matplotlib inline"
   ]
  },
  {
   "cell_type": "code",
   "execution_count": 8,
   "metadata": {},
   "outputs": [],
   "source": [
    "#export\n",
    "import sys\n",
    "sys.path.append('/data/home/jdavey/notebooks/fastai/mi')\n",
    "from data.scraper import *\n",
    "from data.dataset import Dataset\n",
    "from data.sampler import Sampler\n",
    "from data.loader import DataLoader"
   ]
  },
  {
   "cell_type": "code",
   "execution_count": 9,
   "metadata": {},
   "outputs": [],
   "source": [
    "#export\n",
    "def normalize(x, m, s): return (x-m)/s"
   ]
  },
  {
   "cell_type": "code",
   "execution_count": 13,
   "metadata": {},
   "outputs": [],
   "source": [
    "#export\n",
    "def data_processor(bs, url =\"MNIST_URL\"):\n",
    "    x_train,y_train,x_valid,y_valid = get_data(url)\n",
    "    train_mean,train_std = x_train.mean(),x_train.std()\n",
    "    x_train = normalize(x_train, train_mean, train_std)\n",
    "    # NB: Use training, not validation mean for validation set\n",
    "    x_valid = normalize(x_valid, train_mean, train_std)\n",
    "    \n",
    "    train_ds,valid_ds = Dataset(x_train, y_train),Dataset(x_valid, y_valid)\n",
    "    \n",
    "    train_samp = Sampler(train_ds, bs, shuffle=True)\n",
    "    #valid_samp = Sampler(valid_ds, bs, shuffle=False)\n",
    "    \n",
    "    train_dl = DataLoader(train_ds, sampler=train_samp)\n",
    "    #valid_dl = DataLoader(valid_ds, sampler=valid_samp)\n",
    "    return train_dl, valid_ds"
   ]
  },
  {
   "cell_type": "code",
   "execution_count": 14,
   "metadata": {},
   "outputs": [
    {
     "name": "stdout",
     "output_type": "stream",
     "text": [
      "Replacing old file\r\n",
      "Converted data_processor.ipynb to /data/home/jdavey/notebooks/fastai/mi/data/processor.py\r\n"
     ]
    }
   ],
   "source": [
    "!python notebook2script.py data_processor.ipynb"
   ]
  },
  {
   "cell_type": "code",
   "execution_count": null,
   "metadata": {},
   "outputs": [],
   "source": []
  }
 ],
 "metadata": {
  "kernelspec": {
   "display_name": "Python (fastai)",
   "language": "python",
   "name": "fastai"
  },
  "language_info": {
   "codemirror_mode": {
    "name": "ipython",
    "version": 3
   },
   "file_extension": ".py",
   "mimetype": "text/x-python",
   "name": "python",
   "nbconvert_exporter": "python",
   "pygments_lexer": "ipython3",
   "version": "3.6.10"
  }
 },
 "nbformat": 4,
 "nbformat_minor": 4
}
