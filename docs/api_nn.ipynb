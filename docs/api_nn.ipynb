{
 "cells": [
  {
   "cell_type": "code",
   "execution_count": 1,
   "metadata": {},
   "outputs": [],
   "source": [
    "%load_ext autoreload\n",
    "%autoreload 2\n",
    "%matplotlib inline"
   ]
  },
  {
   "cell_type": "code",
   "execution_count": 2,
   "metadata": {},
   "outputs": [],
   "source": [
    "#export\n",
    "import sys\n",
    "from pathlib import Path\n",
    "sys.path.append(Path.cwd().parent.as_posix())\n",
    "\n",
    "from nn.module import Module\n",
    "from nn.lin import Lin\n",
    "from nn.relu import Relu\n",
    "from nn.softmaxCrossEntropy import SoftmaxCrossEntropy\n",
    "from nn.mse import Mse\n",
    "from nn.sequentialModel import SequentialModel"
   ]
  },
  {
   "cell_type": "code",
   "execution_count": 3,
   "metadata": {},
   "outputs": [],
   "source": [
    "#export\n",
    "class nn():\n",
    "    @classmethod\n",
    "    def Lin(self, *args):\n",
    "        return Lin(*args)\n",
    "    @classmethod\n",
    "    def Relu(self, *args):\n",
    "        return Relu(*args)\n",
    "    @classmethod\n",
    "    def SoftmaxCrossEntropy(self, *args):\n",
    "        return SoftmaxCrossEntropy(*args)\n",
    "    @classmethod\n",
    "    def Mse(self, *args):\n",
    "        return Mse(*args)\n",
    "    @classmethod\n",
    "    def Sequential(self, *args):\n",
    "        return SequentialModel(*args)"
   ]
  },
  {
   "cell_type": "code",
   "execution_count": 5,
   "metadata": {},
   "outputs": [
    {
     "name": "stdout",
     "output_type": "stream",
     "text": [
      "Replacing old file\r\n",
      "Converted api_nn.ipynb to /data/home/jdavey/notebooks/fastai/MoltenAI/api/nn.py\r\n"
     ]
    }
   ],
   "source": [
    "!python notebook2script.py api_nn.ipynb"
   ]
  },
  {
   "cell_type": "code",
   "execution_count": null,
   "metadata": {},
   "outputs": [],
   "source": []
  }
 ],
 "metadata": {
  "kernelspec": {
   "display_name": "Python (fastai)",
   "language": "python",
   "name": "fastai"
  },
  "language_info": {
   "codemirror_mode": {
    "name": "ipython",
    "version": 3
   },
   "file_extension": ".py",
   "mimetype": "text/x-python",
   "name": "python",
   "nbconvert_exporter": "python",
   "pygments_lexer": "ipython3",
   "version": "3.6.10"
  }
 },
 "nbformat": 4,
 "nbformat_minor": 4
}
